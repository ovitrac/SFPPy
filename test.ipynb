{
 "cells": [
  {
   "cell_type": "code",
   "execution_count": 10,
   "id": "86a8cf56",
   "metadata": {},
   "outputs": [
    {
     "name": "stdout",
     "output_type": "stream",
     "text": [
      "[LAYER object version=0.1, contact=olivier.vitrac@agroparistech.fr]\n",
      "-- [ layer 1 of 1 ] ---------- barrier rank=1 --------------\n",
      "      name: \"my layer\"\n",
      "      type: \"unknown type\"\n",
      "  material: \"unknown material\"\n",
      "         l: 5e-05\n",
      "         D: 1e-14\n",
      "         k: 1\n",
      "        C0: 1000\n"
     ]
    },
    {
     "data": {
      "text/plain": [
       "monolayer of LAYER object"
      ]
     },
     "execution_count": 10,
     "metadata": {},
     "output_type": "execute_result"
    }
   ],
   "source": [
    "from patankar.layer import layer\n",
    "A=layer(D=1e-14,l=50e-6)\n",
    "A\n"
   ]
  },
  {
   "cell_type": "code",
   "execution_count": 11,
   "id": "8e6c631b",
   "metadata": {},
   "outputs": [],
   "source": [
    "A = layer(layername='AA')\n",
    "B = layer(layername='B')\n",
    "C = layer(layername='C')"
   ]
  },
  {
   "cell_type": "code",
   "execution_count": 12,
   "id": "29a540ad",
   "metadata": {},
   "outputs": [],
   "source": [
    "ABC = A+B+C\n"
   ]
  },
  {
   "cell_type": "code",
   "execution_count": 13,
   "id": "29cae912",
   "metadata": {},
   "outputs": [
    {
     "name": "stdout",
     "output_type": "stream",
     "text": [
      "[LAYER object version=0.1, contact=olivier.vitrac@agroparistech.fr]\n",
      "-- [ layer 1 of 3 ] ---------- barrier rank=3 --------------\n",
      "      name: \"AA\"\n",
      "      type: \"unknown type\"\n",
      "  material: \"unknown material\"\n",
      "         l: 5e-05\n",
      "         D: 1e-14\n",
      "         k: 1\n",
      "        C0: 1000\n",
      "-- [ layer 2 of 3 ] ---------- barrier rank=2 --------------\n",
      "      name: \"B\"\n",
      "      type: \"unknown type\"\n",
      "  material: \"unknown material\"\n",
      "         l: 5e-05\n",
      "         D: 1e-14\n",
      "         k: 1\n",
      "        C0: 1000\n",
      "-- [ layer 3 of 3 ] ---------- barrier rank=1 --------------\n",
      "      name: \"C\"\n",
      "      type: \"unknown type\"\n",
      "  material: \"unknown material\"\n",
      "         l: 5e-05\n",
      "         D: 1e-14\n",
      "         k: 1\n",
      "        C0: 1000\n"
     ]
    },
    {
     "data": {
      "text/plain": [
       "3-multilayer of LAYER object"
      ]
     },
     "execution_count": 13,
     "metadata": {},
     "output_type": "execute_result"
    }
   ],
   "source": [
    "ABC"
   ]
  },
  {
   "cell_type": "code",
   "execution_count": null,
   "id": "da6cbaf5",
   "metadata": {},
   "outputs": [],
   "source": []
  }
 ],
 "metadata": {
  "kernelspec": {
   "display_name": "Python 3 (ipykernel)",
   "language": "python",
   "name": "python3"
  },
  "language_info": {
   "codemirror_mode": {
    "name": "ipython",
    "version": 3
   },
   "file_extension": ".py",
   "mimetype": "text/x-python",
   "name": "python",
   "nbconvert_exporter": "python",
   "pygments_lexer": "ipython3",
   "version": "3.8.5"
  }
 },
 "nbformat": 4,
 "nbformat_minor": 5
}
